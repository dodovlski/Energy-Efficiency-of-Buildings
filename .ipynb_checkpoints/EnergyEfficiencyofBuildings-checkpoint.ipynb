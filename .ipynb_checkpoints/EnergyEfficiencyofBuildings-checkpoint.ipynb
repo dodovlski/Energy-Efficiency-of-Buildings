{
 "cells": [
  {
   "cell_type": "code",
   "execution_count": 1,
   "id": "b6c45c0d-3d31-462d-85a0-d7b40cb682cd",
   "metadata": {},
   "outputs": [],
   "source": [
    "import pandas as pd\n",
    "import numpy as np\n",
    "import matplotlib as plt"
   ]
  },
  {
   "cell_type": "code",
   "execution_count": null,
   "id": "027fc354-b78c-47eb-b58b-0a2cd36c4369",
   "metadata": {},
   "outputs": [],
   "source": [
    "data = pd.read_csv"
   ]
  }
 ],
 "metadata": {
  "kernelspec": {
   "display_name": "Python 3 (ipykernel)",
   "language": "python",
   "name": "python3"
  },
  "language_info": {
   "codemirror_mode": {
    "name": "ipython",
    "version": 3
   },
   "file_extension": ".py",
   "mimetype": "text/x-python",
   "name": "python",
   "nbconvert_exporter": "python",
   "pygments_lexer": "ipython3",
   "version": "3.12.3"
  }
 },
 "nbformat": 4,
 "nbformat_minor": 5
}
